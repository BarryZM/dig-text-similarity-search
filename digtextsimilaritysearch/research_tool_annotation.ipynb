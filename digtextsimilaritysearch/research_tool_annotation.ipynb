{
 "cells": [
  {
   "cell_type": "code",
   "execution_count": 1,
   "metadata": {},
   "outputs": [],
   "source": [
    "import numpy\n",
    "import pandas as pd\n",
    "from plotly.offline import iplot, init_notebook_mode\n",
    "import plotly.graph_objs as go\n",
    "from ipywidgets import widgets, Layout"
   ]
  },
  {
   "cell_type": "code",
   "execution_count": 2,
   "metadata": {},
   "outputs": [],
   "source": [
    "f_path = '/Users/amandeep/Github/dig-text-similarity-search/data/evaluation_results.csv'\n",
    "df = pd.read_csv(f_path)\n",
    "df_index = 0"
   ]
  },
  {
   "cell_type": "code",
   "execution_count": 3,
   "metadata": {},
   "outputs": [
    {
     "data": {
      "application/vnd.jupyter.widget-view+json": {
       "model_id": "83f4915e53f7406ebf870a0e6b063f6c",
       "version_major": 2,
       "version_minor": 0
      },
      "text/plain": [
       "Output()"
      ]
     },
     "metadata": {},
     "output_type": "display_data"
    }
   ],
   "source": [
    "ow = widgets.Output()\n",
    "display(ow)\n",
    "    \n",
    "def previous_click(btn):\n",
    "    previous_df_record()\n",
    "\n",
    "def next_click(btn):\n",
    "    next_df_record()\n",
    "\n",
    "doc_text_widget = widgets.HTML(value='', placeholder='Type something', \n",
    "                                   description='News Article:', disabled=False, \n",
    "                                   layout=Layout(width='900px', height='500px'))\n",
    "ifp_widget = widgets.Text(value='', placeholder='something...', description='ifp:',\n",
    "                          disabled=False, layout=Layout(width='900px', height='30px'))\n",
    "ms_widget = widgets.Text(value='', placeholder='something...', \n",
    "                         description='Sentence:', disabled=False,\n",
    "                        layout=Layout(width='900px', height='30px'))\n",
    "score_widget = widgets.Text(value='', description='Score:', disabled=False)\n",
    "relevance_widget = widgets.Text(value='', description = 'Relevance:', disabled=False)\n",
    "\n",
    "annotate_widget = widgets.Select(\n",
    "    options=['No Idea', 'Very Relevant', 'Topically Relevant', 'Irrelevant'],\n",
    "    value='No Idea',\n",
    "    # rows=10,\n",
    "    description='Annotate:',\n",
    "    disabled=False\n",
    ")\n",
    "\n",
    "previous_btn = widgets.Button(description=\"<< previous\")\n",
    "previous_btn.on_click(previous_click)\n",
    "\n",
    "next_btn = widgets.Button(description=\"next >>\")\n",
    "next_btn.on_click(next_click)\n",
    "\n",
    "records_widget = widgets.Text(value='', placeholder='something...', description='', disabled=False)\n",
    "\n",
    "zero_box = widgets.HBox([widgets.Label('Currently viewing: '),records_widget])\n",
    "first_box = widgets.HBox([ifp_widget])\n",
    "second_box = widgets.HBox([ms_widget])\n",
    "third_box = widgets.HBox([doc_text_widget])\n",
    "fourth_box = widgets.HBox([annotate_widget, score_widget])\n",
    "fifth_box = widgets.HBox([previous_btn, next_btn])\n",
    "\n",
    "whole_box = widgets.VBox([zero_box, first_box, second_box,third_box, fourth_box, fifth_box])\n",
    "\n",
    "relevance_dict = {\n",
    "    'No Idea': -1, \n",
    "    'Very Relevant': 3, \n",
    "    'Topically Relevant':2, \n",
    "    'Irrelevant':1\n",
    "}\n",
    "\n",
    "reverse_relevance_dict = {\n",
    "    -1: 'No Idea', \n",
    "    3: 'Very Relevant', \n",
    "    2: 'Topically Relevant',\n",
    "    1: 'Irrelevant'\n",
    "}\n",
    "\n",
    "def create_highlighted_sentences(sentence, paragraph):\n",
    "    high_para = ''\n",
    "    index = paragraph.find(sentence.replace('\\n', '<br/>'))\n",
    "    print('matched sentence index:{}'.format(index))\n",
    "    if index == -1:\n",
    "        return paragraph\n",
    "\n",
    "    high_para += paragraph[0:index]\n",
    "    n = len(sentence)\n",
    "    high_para += '<mark>{}</mark>'.format(sentence)\n",
    "    high_para += paragraph[index + n:]\n",
    "    return high_para\n",
    "\n",
    "def on_annotate_change(change):\n",
    "    update_relevance(relevance_dict[change['new']])\n",
    "\n",
    "\n",
    "def update_relevance(relevance):\n",
    "    global df_index\n",
    "    df.at[df_index,'relevance'] = relevance\n",
    "    \n",
    "\n",
    "annotate_widget.observe(on_annotate_change, names='value')\n",
    "\n",
    "def previous_df_record():\n",
    "    global df_index\n",
    "    prev = df_index - 1\n",
    "    if prev < 0:\n",
    "        print('This is the first record')\n",
    "    else:\n",
    "        df_index -= 1\n",
    "        display_df(df, prev)\n",
    "    \n",
    "def next_df_record():\n",
    "    global df_index\n",
    "    next = df_index + 1\n",
    "    if next > len(df) - 1:\n",
    "        print('This is the last record')\n",
    "    else:\n",
    "        df_index += 1\n",
    "        display_df(df, next)\n",
    "\n",
    "def display_df(df, index):\n",
    "    ow.clear_output()\n",
    "    with ow:\n",
    "        records_widget.value = '{} of {} records'.format(df_index+1, len(df))\n",
    "        row = df.iloc[index]\n",
    "        doc_text_widget.value = create_highlighted_sentences(row['sentence_text'], row['doc_text'])\n",
    "        ifp_widget.value = row['ifp']\n",
    "        ms_widget.value = row['sentence_text']\n",
    "        score_widget.value = str(row['score'])\n",
    "        annotate_widget.value = reverse_relevance_dict[row['relevance']]\n",
    "        display(whole_box)\n",
    "\n",
    "display_df(df, df_index)"
   ]
  },
  {
   "cell_type": "code",
   "execution_count": 1,
   "metadata": {},
   "outputs": [],
   "source": [
    "output_path = 'evaluation_results_annotation.csv'\n",
    "# df.to_csv(output_path,index=False)"
   ]
  },
  {
   "cell_type": "code",
   "execution_count": 1,
   "metadata": {},
   "outputs": [],
   "source": [
    "import pandas as pd\n",
    "import hashlib\n",
    "output_path = 'evaluation_results_annotation.csv'\n",
    "annotated_df = pd.read_csv(output_path)\n",
    "def create_hash(str):\n",
    "    return hashlib.sha256(str.encode('utf-8')).hexdigest().upper()\n",
    "\n",
    "dash_data = dict()\n",
    "for index, row in annotated_df.iterrows():\n",
    "    h = create_hash(row['ifp'])\n",
    "    if h not in dash_data:\n",
    "        dash_data[h] = list()\n",
    "    dash_data[h].append({'score': row['score'], 'sentence': 'Matched Sentence: {}      IFP:{}'.format(row['sentence_text'], row['ifp']),'relevance': row['relevance'], 'ifp':row['ifp']})\n"
   ]
  },
  {
   "cell_type": "code",
   "execution_count": 2,
   "metadata": {},
   "outputs": [],
   "source": [
    "import dash\n",
    "import dash_core_components as dcc\n",
    "import dash_html_components as html\n",
    "import plotly.graph_objs as go"
   ]
  },
  {
   "cell_type": "code",
   "execution_count": 3,
   "metadata": {},
   "outputs": [],
   "source": [
    "app = dash.Dash()\n"
   ]
  },
  {
   "cell_type": "code",
   "execution_count": 4,
   "metadata": {},
   "outputs": [],
   "source": [
    "app.layout = html.Div([\n",
    "    dcc.Graph(\n",
    "        id='score-vs-relevance',\n",
    "        figure={\n",
    "            'data': [\n",
    "                go.Scatter(\n",
    "                    x=[g['score'] for g in dash_data[key]],\n",
    "                    y=[g['relevance'] for g in dash_data[key]],\n",
    "                    text=[g['sentence'] for g in dash_data[key]],\n",
    "                    mode='markers',\n",
    "                    opacity=0.7,\n",
    "                    marker={\n",
    "                        'size': 15,\n",
    "                        'line': {'width': 0.5, 'color': 'white'}\n",
    "                    },\n",
    "                    name=dash_data[key][0]['ifp'][:5],\n",
    "                ) for key in dash_data.keys()\n",
    "            ],\n",
    "            'layout': go.Layout(\n",
    "                xaxis={'type': 'log', 'title': 'Score'},\n",
    "                yaxis={'title': 'Relevance'},\n",
    "                margin={'l': 40, 'b': 40, 't': 10, 'r': 10},\n",
    "                legend={'x': 0, 'y': 1},\n",
    "                hovermode='closest'\n",
    "            )\n",
    "        }\n",
    "    )\n",
    "])"
   ]
  },
  {
   "cell_type": "code",
   "execution_count": null,
   "metadata": {},
   "outputs": [
    {
     "name": "stdout",
     "output_type": "stream",
     "text": [
      " * Serving Flask app \"__main__\" (lazy loading)\n",
      " * Environment: production\n",
      "   WARNING: Do not use the development server in a production environment.\n",
      "   Use a production WSGI server instead.\n",
      " * Debug mode: off\n"
     ]
    },
    {
     "name": "stderr",
     "output_type": "stream",
     "text": [
      " * Running on http://127.0.0.1:8050/ (Press CTRL+C to quit)\n",
      "127.0.0.1 - - [20/Sep/2018 18:16:33] \"\u001b[37mGET / HTTP/1.1\u001b[0m\" 200 -\n",
      "127.0.0.1 - - [20/Sep/2018 18:16:34] \"\u001b[37mGET /_dash-dependencies HTTP/1.1\u001b[0m\" 200 -\n",
      "127.0.0.1 - - [20/Sep/2018 18:16:34] \"\u001b[37mGET /_dash-layout HTTP/1.1\u001b[0m\" 200 -\n",
      "127.0.0.1 - - [20/Sep/2018 18:16:34] \"\u001b[37mGET /favicon.ico HTTP/1.1\u001b[0m\" 200 -\n"
     ]
    }
   ],
   "source": [
    "app.run_server()"
   ]
  },
  {
   "cell_type": "code",
   "execution_count": null,
   "metadata": {},
   "outputs": [],
   "source": []
  }
 ],
 "metadata": {
  "kernelspec": {
   "display_name": "dig_text_similarity",
   "language": "python",
   "name": "dig_text_similarity"
  },
  "language_info": {
   "codemirror_mode": {
    "name": "ipython",
    "version": 3
   },
   "file_extension": ".py",
   "mimetype": "text/x-python",
   "name": "python",
   "nbconvert_exporter": "python",
   "pygments_lexer": "ipython3",
   "version": "3.6.6"
  }
 },
 "nbformat": 4,
 "nbformat_minor": 1
}
