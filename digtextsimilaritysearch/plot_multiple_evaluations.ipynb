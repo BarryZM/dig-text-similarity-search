{
 "cells": [
  {
   "cell_type": "code",
   "execution_count": 1,
   "metadata": {},
   "outputs": [],
   "source": [
    "import pandas as pd\n",
    "import hashlib\n",
    "import dash\n",
    "import dash_core_components as dcc\n",
    "import dash_html_components as html\n",
    "import plotly.graph_objs as go\n",
    "import textwrap\n",
    "import glob\n",
    "import json\n",
    "def create_hash(str):\n",
    "    return hashlib.sha256(str.encode('utf-8')).hexdigest().upper()\n",
    "\n",
    "dash_data = dict()\n",
    "\n",
    "\n",
    "evaluations_dir = 'evaluation_results'\n",
    "for f in glob.glob('{}/*.csv'.format(evaluations_dir)):\n",
    "    df = pd.read_csv(f)\n",
    "    for index, row in df.iterrows():\n",
    "        ifp_h = create_hash(row['ifp'])\n",
    "        if ifp_h not in dash_data:\n",
    "            dash_data[ifp_h] = dict()\n",
    "        d = dash_data[ifp_h]\n",
    "        sentence = row['sentence_text']\n",
    "        s_h = create_hash(sentence)\n",
    "        if s_h not in d:\n",
    "            d[s_h] = dict()\n",
    "            d[s_h]['score'] = row['score']\n",
    "            d[s_h]['relevance'] = list()\n",
    "            d[s_h]['sentence'] = sentence\n",
    "            d[s_h]['ifp'] = row['ifp']\n",
    "        d[s_h]['relevance'].append(row['relevance'])\n",
    "        \n",
    "for i in list(dash_data):\n",
    "    data = dash_data[i]\n",
    "    for s in list(data):\n",
    "        data[s]['relevance'] = sum(data[s]['relevance']) / float(len(data[s]['relevance']))\n",
    "\n",
    "plot_dash_data = dict()\n",
    "for key in list(dash_data):\n",
    "    if key not in plot_dash_data:\n",
    "        plot_dash_data[key] = list()\n",
    "    for s in list(dash_data[key]):\n",
    "        plot_dash_data[key].append(dash_data[key][s])\n"
   ]
  },
  {
   "cell_type": "code",
   "execution_count": null,
   "metadata": {},
   "outputs": [
    {
     "name": "stdout",
     "output_type": "stream",
     "text": [
      " * Serving Flask app \"__main__\" (lazy loading)\n",
      " * Environment: production\n",
      "   WARNING: Do not use the development server in a production environment.\n",
      "   Use a production WSGI server instead.\n",
      " * Debug mode: off\n"
     ]
    },
    {
     "name": "stderr",
     "output_type": "stream",
     "text": [
      " * Running on http://127.0.0.1:8050/ (Press CTRL+C to quit)\n",
      "127.0.0.1 - - [27/Sep/2018 17:09:33] \"\u001b[37mGET / HTTP/1.1\u001b[0m\" 200 -\n",
      "127.0.0.1 - - [27/Sep/2018 17:09:33] \"\u001b[37mGET /_dash-dependencies HTTP/1.1\u001b[0m\" 200 -\n",
      "127.0.0.1 - - [27/Sep/2018 17:09:33] \"\u001b[37mGET /_dash-layout HTTP/1.1\u001b[0m\" 200 -\n",
      "127.0.0.1 - - [27/Sep/2018 17:09:33] \"\u001b[37mGET /favicon.ico HTTP/1.1\u001b[0m\" 200 -\n"
     ]
    }
   ],
   "source": [
    "app = dash.Dash()\n",
    "app.layout = html.Div([\n",
    "    dcc.Graph(\n",
    "        id='score-vs-relevance',\n",
    "        figure={\n",
    "            'data': [\n",
    "                go.Scatter(\n",
    "                    x=[g['score'] for g in plot_dash_data[key]],\n",
    "                    y=[g['relevance'] for g in plot_dash_data[key]],\n",
    "                    text=[g['sentence'] for g in plot_dash_data[key]],\n",
    "                    mode='markers',\n",
    "                    opacity=0.7,\n",
    "                    marker={\n",
    "                        'size': 15,\n",
    "                        'line': {'width': 0.5, 'color': 'white'}\n",
    "                    },\n",
    "                    name='<br>'.join(textwrap.wrap(plot_dash_data[key][0]['ifp'], width=66)),\n",
    "                ) for key in plot_dash_data.keys()\n",
    "            ],\n",
    "            'layout': go.Layout(\n",
    "                xaxis={'type': 'log', 'title': 'Score'},\n",
    "                yaxis={'title': 'Relevance'},\n",
    "                margin={'l': 40, 'b': 40, 't': 10, 'r': 10},\n",
    "                legend={'xanchor':'right', 'yanchor': 'top', 'font': {'size': 8}},\n",
    "                hovermode='closest'\n",
    "            )\n",
    "        }\n",
    "    )\n",
    "])\n",
    "app.run_server()"
   ]
  },
  {
   "cell_type": "code",
   "execution_count": null,
   "metadata": {},
   "outputs": [],
   "source": []
  }
 ],
 "metadata": {
  "kernelspec": {
   "display_name": "dig_text_similarity",
   "language": "python",
   "name": "dig_text_similarity"
  },
  "language_info": {
   "codemirror_mode": {
    "name": "ipython",
    "version": 3
   },
   "file_extension": ".py",
   "mimetype": "text/x-python",
   "name": "python",
   "nbconvert_exporter": "python",
   "pygments_lexer": "ipython3",
   "version": "3.6.6"
  }
 },
 "nbformat": 4,
 "nbformat_minor": 2
}
